{
 "cells": [
  {
   "cell_type": "code",
   "execution_count": null,
   "id": "f3e67fb5",
   "metadata": {},
   "outputs": [],
   "source": [
    "import cv2\n",
    "\n",
    "face_cascade = cv2.CascadeClassifier(cv2.data.haarcascades + 'haarcascade_frontalface_default.xml')\n",
    "\n",
    "def detect_faces(cascade, image, scaleFactor = 1.05):  \n",
    "    image_copy = image.copy()                                      # creating copy of original\n",
    "    gray_image = cv2.cvtColor(image_copy, cv2.COLOR_BGR2GRAY)           # Coverting it to grayscale\n",
    "    gray_image = cv2.equalizeHist(gray_image)                           # Histogram equalization\n",
    "\n",
    "    # detecting faces using the classifier\n",
    "    faces_rect = cascade.detectMultiScale(gray_image, scaleFactor=scaleFactor, minNeighbors=5)\n",
    "\n",
    "    for (x, y, w, h) in faces_rect:\n",
    "        cv2.rectangle(image_copy, (x, y), (x+w, y+h), (0, 255, 128), 2)\n",
    "\n",
    "    return image_copy\n",
    "\n",
    "image = cv2.imread(r\"ref_pic.jpg\")\n",
    "\n",
    "#detecting faces\n",
    "All_faces = detect_faces(face_cascade, image, scaleFactor = 1.009)\n",
    "\n",
    "# display image\n",
    "cv2.namedWindow('Faces', cv2.WINDOW_NORMAL)\n",
    "cv2.resizeWindow('Faces', 400,200)\n",
    "cv2.imshow('Faces', All_faces)\n",
    "cv2.waitKey(0)\n",
    "cv2.destroyAllWindows()"
   ]
  }
 ],
 "metadata": {
  "kernelspec": {
   "display_name": "Python 3",
   "language": "python",
   "name": "python3"
  },
  "language_info": {
   "codemirror_mode": {
    "name": "ipython",
    "version": 3
   },
   "file_extension": ".py",
   "mimetype": "text/x-python",
   "name": "python",
   "nbconvert_exporter": "python",
   "pygments_lexer": "ipython3",
   "version": "3.9.5"
  }
 },
 "nbformat": 4,
 "nbformat_minor": 5
}
